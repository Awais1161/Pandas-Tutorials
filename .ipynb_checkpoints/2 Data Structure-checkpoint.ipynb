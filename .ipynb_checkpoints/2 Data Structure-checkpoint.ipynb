{
 "cells": [
  {
   "cell_type": "markdown",
   "id": "8a6644bc",
   "metadata": {},
   "source": [
    "# Series"
   ]
  },
  {
   "cell_type": "code",
   "execution_count": 3,
   "id": "eada145f",
   "metadata": {},
   "outputs": [
    {
     "name": "stdout",
     "output_type": "stream",
     "text": [
      "<class 'pandas.core.series.Series'>\n"
     ]
    }
   ],
   "source": [
    "import pandas as pd\n",
    "a=pd.Series\n",
    "print(a)"
   ]
  },
  {
   "cell_type": "code",
   "execution_count": 4,
   "id": "6c2ddf1d",
   "metadata": {},
   "outputs": [
    {
     "name": "stdout",
     "output_type": "stream",
     "text": [
      "[3, 4, 5, 6, 7, 8]\n"
     ]
    }
   ],
   "source": [
    "x=[3,4,5,6,7,8]\n",
    "\n",
    "var= pd.Series(x)\n",
    "\n",
    "print(x)"
   ]
  },
  {
   "cell_type": "code",
   "execution_count": 5,
   "id": "c9224c4d",
   "metadata": {},
   "outputs": [
    {
     "name": "stdout",
     "output_type": "stream",
     "text": [
      "0    3\n",
      "1    4\n",
      "2    5\n",
      "3    6\n",
      "4    7\n",
      "5    8\n",
      "dtype: int64\n"
     ]
    }
   ],
   "source": [
    "print(var)"
   ]
  },
  {
   "cell_type": "code",
   "execution_count": 6,
   "id": "3e63bfbd",
   "metadata": {},
   "outputs": [
    {
     "name": "stdout",
     "output_type": "stream",
     "text": [
      "<class 'pandas.core.series.Series'>\n"
     ]
    }
   ],
   "source": [
    "print(type(var))"
   ]
  },
  {
   "cell_type": "code",
   "execution_count": 7,
   "id": "c474100a",
   "metadata": {},
   "outputs": [
    {
     "name": "stdout",
     "output_type": "stream",
     "text": [
      "5\n"
     ]
    }
   ],
   "source": [
    "print(var[2])"
   ]
  },
  {
   "cell_type": "code",
   "execution_count": 8,
   "id": "bf3b99bf",
   "metadata": {},
   "outputs": [
    {
     "name": "stdout",
     "output_type": "stream",
     "text": [
      "a    3\n",
      "b    4\n",
      "c    5\n",
      "d    6\n",
      "e    7\n",
      "f    8\n",
      "dtype: int64\n"
     ]
    }
   ],
   "source": [
    "x=[3,4,5,6,7,8]\n",
    "\n",
    "var= pd.Series(x, index=['a', 'b', 'c', 'd', 'e', 'f'])\n",
    "\n",
    "print(var)"
   ]
  },
  {
   "cell_type": "code",
   "execution_count": 11,
   "id": "b8e902ce",
   "metadata": {},
   "outputs": [
    {
     "name": "stdout",
     "output_type": "stream",
     "text": [
      "a    3.0\n",
      "b    4.0\n",
      "c    5.0\n",
      "d    6.0\n",
      "e    7.0\n",
      "f    8.0\n",
      "dtype: float64\n"
     ]
    }
   ],
   "source": [
    "x=[3,4,5,6,7,8]\n",
    "\n",
    "var= pd.Series(x, index=['a', 'b', 'c', 'd', 'e', 'f'], dtype='float')\n",
    "\n",
    "print(var)"
   ]
  },
  {
   "cell_type": "code",
   "execution_count": 12,
   "id": "40938595",
   "metadata": {},
   "outputs": [
    {
     "name": "stdout",
     "output_type": "stream",
     "text": [
      "a    3.0\n",
      "b    4.0\n",
      "c    5.0\n",
      "d    6.0\n",
      "e    7.0\n",
      "f    8.0\n",
      "Name: python, dtype: float64\n"
     ]
    }
   ],
   "source": [
    "x=[3,4,5,6,7,8]\n",
    "\n",
    "var= pd.Series(x, index=['a', 'b', 'c', 'd', 'e', 'f'], dtype='float', name='python')\n",
    "\n",
    "print(var)"
   ]
  },
  {
   "cell_type": "code",
   "execution_count": null,
   "id": "131b9ea5",
   "metadata": {},
   "outputs": [],
   "source": [
    "# we can use list, tuple, dict etc in it"
   ]
  },
  {
   "cell_type": "code",
   "execution_count": 16,
   "id": "8dd69812",
   "metadata": {},
   "outputs": [
    {
     "data": {
      "text/plain": [
       "name    [python, c, c++, java]\n",
       "por           [12, 13, 14, 15]\n",
       "rank              [1, 4, 3, 2]\n",
       "dtype: object"
      ]
     },
     "execution_count": 16,
     "metadata": {},
     "output_type": "execute_result"
    }
   ],
   "source": [
    "dic= {'name':['python', 'c', 'c++', 'java'],'por':[12,13,14,15] , 'rank':[1,4,3,2]}\n",
    "\n",
    "var1=pd.Series(dic)\n",
    "var1"
   ]
  },
  {
   "cell_type": "code",
   "execution_count": 17,
   "id": "31ca3db7",
   "metadata": {},
   "outputs": [
    {
     "name": "stdout",
     "output_type": "stream",
     "text": [
      "name    [python, c, c++, java]\n",
      "por           [12, 13, 14, 15]\n",
      "rank              [1, 4, 3, 2]\n",
      "dtype: object\n"
     ]
    }
   ],
   "source": [
    "dic= {'name':['python', 'c', 'c++', 'java'],'por':[12,13,14,15] , 'rank':[1,4,3,2]}\n",
    "\n",
    "var1=pd.Series(dic)\n",
    "print(var1)"
   ]
  },
  {
   "cell_type": "code",
   "execution_count": 20,
   "id": "a5d548b1",
   "metadata": {},
   "outputs": [
    {
     "name": "stdout",
     "output_type": "stream",
     "text": [
      "0    12\n",
      "dtype: int64\n",
      "<class 'pandas.core.series.Series'>\n"
     ]
    }
   ],
   "source": [
    "s=pd.Series(12)\n",
    "print(s)\n",
    "print(type(s))"
   ]
  },
  {
   "cell_type": "code",
   "execution_count": 21,
   "id": "f331bd51",
   "metadata": {},
   "outputs": [
    {
     "name": "stdout",
     "output_type": "stream",
     "text": [
      "1    12\n",
      "2    12\n",
      "3    12\n",
      "4    12\n",
      "5    12\n",
      "6    12\n",
      "7    12\n",
      "dtype: int64\n"
     ]
    }
   ],
   "source": [
    "s=pd.Series(12, index=[1,2,3,4,5,6,7])\n",
    "print(s)"
   ]
  },
  {
   "cell_type": "code",
   "execution_count": 22,
   "id": "fc8ede0a",
   "metadata": {},
   "outputs": [
    {
     "name": "stdout",
     "output_type": "stream",
     "text": [
      "1    24.0\n",
      "2    24.0\n",
      "3    24.0\n",
      "4    24.0\n",
      "5     NaN\n",
      "6     NaN\n",
      "7     NaN\n",
      "dtype: float64\n"
     ]
    }
   ],
   "source": [
    "s1=pd.Series(12, index=[1,2,3,4,5,6,7])\n",
    "s2=pd.Series(12, index=[1,2,3,4])\n",
    "print(s1+s2)        # here NaN , but in case of numpy error. means can work with missing data"
   ]
  },
  {
   "cell_type": "code",
   "execution_count": null,
   "id": "e3a85e37",
   "metadata": {},
   "outputs": [],
   "source": []
  },
  {
   "cell_type": "code",
   "execution_count": null,
   "id": "298e619e",
   "metadata": {},
   "outputs": [],
   "source": []
  }
 ],
 "metadata": {
  "kernelspec": {
   "display_name": "Python 3 (ipykernel)",
   "language": "python",
   "name": "python3"
  },
  "language_info": {
   "codemirror_mode": {
    "name": "ipython",
    "version": 3
   },
   "file_extension": ".py",
   "mimetype": "text/x-python",
   "name": "python",
   "nbconvert_exporter": "python",
   "pygments_lexer": "ipython3",
   "version": "3.9.12"
  }
 },
 "nbformat": 4,
 "nbformat_minor": 5
}
